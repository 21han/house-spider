{
 "cells": [
  {
   "cell_type": "code",
   "execution_count": 4,
   "metadata": {},
   "outputs": [
    {
     "data": {
      "text/plain": [
       "100"
      ]
     },
     "metadata": {},
     "output_type": "display_data"
    }
   ],
   "source": [
    "from ipywidgets import interact\n",
    "def square(x):\n",
    "    return x * x\n",
    "\n",
    "interact(square, x=10);"
   ]
  },
  {
   "cell_type": "code",
   "execution_count": 4,
   "metadata": {},
   "outputs": [],
   "source": [
    "def from_web_page_to_loads():\n",
    "    s = \"\"\"2020\t$26,767.73\t$60,312.79\t$87,080.52\t$1,493,232.27\n",
    "    2021\t$27,858.29\t$59,222.23\t$87,080.52\t$1,465,373.98\n",
    "    2022\t$28,993.28\t$58,087.24\t$87,080.52\t$1,436,380.70\n",
    "    2023\t$30,174.49\t$56,906.03\t$87,080.52\t$1,406,206.21\n",
    "    2024\t$31,403.87\t$55,676.65\t$87,080.52\t$1,374,802.34\n",
    "    2025\t$32,683.30\t$54,397.22\t$87,080.52\t$1,342,119.04\n",
    "    2026\t$34,014.86\t$53,065.66\t$87,080.52\t$1,308,104.18\n",
    "    2027\t$35,400.67\t$51,679.85\t$87,080.52\t$1,272,703.51\n",
    "    2028\t$36,842.95\t$50,237.57\t$87,080.52\t$1,235,860.56\n",
    "    2029\t$38,343.98\t$48,736.54\t$87,080.52\t$1,197,516.58\n",
    "    2030\t$39,906.20\t$47,174.32\t$87,080.52\t$1,157,610.38\n",
    "    2031\t$41,532.04\t$45,548.48\t$87,080.52\t$1,116,078.34\"\"\"\n",
    "    return [int(float(i.split(\"\\t\")[-1].replace(\"$\", \"\").replace(\",\", \"\"))) for i in s.split(\"\\n\")]"
   ]
  },
  {
   "cell_type": "code",
   "execution_count": 5,
   "metadata": {},
   "outputs": [
    {
     "name": "stdout",
     "output_type": "stream",
     "text": [
      "total cash need $467,384.00\n",
      "\n",
      "monthly cash flow: $-1,727.00\n",
      "estimated annual rate: 3.31 %\n",
      "total monthly poincome: $7,500.00\n",
      "monthly estimated expense: $9,227.00\n",
      "percentage covered 81.0 %\n"
     ]
    }
   ],
   "source": [
    "# units\n",
    "M = 10**6\n",
    "months = 12\n",
    "def dollar(s):\n",
    "    return '${:,.2f}'.format(s)\n",
    "\n",
    "# variables\n",
    "five_percent = 5/100\n",
    "vacancy_rate = 5 / 100\n",
    "repair_rate = 5 / 100\n",
    "property_management_rate = 5/100\n",
    "\n",
    "# price, down payment and loan\n",
    "purchase_price = 1.8 * M\n",
    "down_payments = purchase_price * 0.2\n",
    "loan = purchase_price * 0.8\n",
    "\n",
    "# total cost, cash needed\n",
    "purchasing_closing_cost = 42830\n",
    "monthly_morgage_payment = 7277\n",
    "pre_rent_holding_cost = monthly_morgage_payment*2\n",
    "estimated_repair = 50000  # this is based on our best estimate\n",
    "total_cost = purchase_price + purchasing_closing_cost + pre_rent_holding_cost + \\\n",
    "    estimated_repair\n",
    "total_cash_needed = total_cost - loan\n",
    "print(f\"total cash need {dollar(total_cash_needed)}\")\n",
    "\n",
    "# ROI\n",
    "num_units = 3\n",
    "unit_month_income = 2500\n",
    "home_insurance = 480\n",
    "property_tax = 345\n",
    "\n",
    "total_monthly_income = num_units * unit_month_income\n",
    "vacancy = total_monthly_income * vacancy_rate\n",
    "repair = total_monthly_income * repair_rate\n",
    "property_management = total_monthly_income * property_management_rate\n",
    "estimated_monthly_expense = monthly_morgage_payment + \\\n",
    "property_tax + home_insurance + vacancy + repair + property_management\n",
    "monthly_cash_flow = total_monthly_income - estimated_monthly_expense\n",
    "ROI = monthly_cash_flow * months / total_cash_needed\n",
    "print(f\"\\nmonthly cash flow: {dollar(monthly_cash_flow)}\")\n",
    "annual_rate = ((977500 / 837528) ** (1/19))**4\n",
    "print(f\"estimated annual rate: {round((annual_rate - 1)*100, 2)} %\")\n",
    "print(f\"total monthly poincome: {dollar(total_monthly_income)}\")\n",
    "print(f\"monthly estimated expense: {dollar(estimated_monthly_expense)}\")\n",
    "loans_year_after_year = from_web_page_to_loads()\n",
    "print(\"percentage covered\", round(total_monthly_income / estimated_monthly_expense, 2)*100, \"%\")"
   ]
  },
  {
   "cell_type": "code",
   "execution_count": 6,
   "metadata": {},
   "outputs": [
    {
     "data": {
      "text/plain": [
       "375.0"
      ]
     },
     "execution_count": 6,
     "metadata": {},
     "output_type": "execute_result"
    }
   ],
   "source": [
    "property_management"
   ]
  },
  {
   "cell_type": "markdown",
   "metadata": {},
   "source": [
    "\n",
    "| expense type | amount |\n",
    "|------|------|\n",
    "|  monthly morgage payment  | \\$7,682  |\n",
    "| property tax| \\$1,283| \n",
    "| home insurance | \\$507|\n",
    "| vacancy|\\$700|\n",
    "| repair |\\$700|\n",
    "| property management |\\$700|\n"
   ]
  },
  {
   "cell_type": "code",
   "execution_count": 7,
   "metadata": {},
   "outputs": [
    {
     "name": "stdout",
     "output_type": "stream",
     "text": [
      "year: 1 price : $2,045,479.70\n",
      "year: 2 price : $2,113,124.20\n",
      "year: 3 price : $2,183,006.10\n",
      "year: 4 price : $2,255,200.20\n",
      "year: 5 price : $2,329,780.20\n",
      "year: 6 price : $2,406,827.50\n",
      "year: 7 price : $2,486,422.40\n",
      "year: 8 price : $2,568,650.70\n",
      "year: 9 price : $2,653,597.10\n",
      "year: 10 price : $2,741,352.90\n",
      "selling after 0 years $122,728.78\n",
      "selling after 1 years $126,787.45\n",
      "selling after 2 years $130,980.37\n",
      "selling after 3 years $135,312.01\n",
      "selling after 4 years $139,786.81\n",
      "selling after 5 years $144,409.65\n",
      "selling after 6 years $149,185.34\n",
      "selling after 7 years $154,119.04\n",
      "selling after 8 years $159,215.83\n",
      "selling after 9 years $164,481.17\n"
     ]
    }
   ],
   "source": [
    "values = []\n",
    "for i in range(1, 11):\n",
    "    price = int(purchase_price * annual_rate ** i) \n",
    "    # print(f\"year: {i} price : {'${:,.2f}'.format(price)}\")\n",
    "    price_after_forced_appreciation = price * 1.1\n",
    "    print(f\"year: {i} price : {'${:,.2f}'.format(price_after_forced_appreciation)}\")    \n",
    "    values.append(price_after_forced_appreciation)\n",
    "\n",
    "count = 0\n",
    "sales_expenses = []\n",
    "for property_value in values:\n",
    "    total_sales_expense = property_value * 6/100\n",
    "    print(f\"selling after {count} years\", '${:,.2f}'.format(total_sales_expense))\n",
    "    count += 1\n",
    "    sales_expenses.append(total_sales_expense)"
   ]
  },
  {
   "cell_type": "code",
   "execution_count": 8,
   "metadata": {},
   "outputs": [
    {
     "name": "stdout",
     "output_type": "stream",
     "text": [
      "year afterwards: 0 year\n",
      "value: $2,045,479.70,           sales expense : $122,728.78,           loan : $1,493,232.00\n",
      "appreciation_profit: $-37,865.08\n",
      "total cash flow $-20,724.00\n",
      "total profit $-58,589.08\n",
      "\n",
      "\n",
      "year afterwards: 1 year\n",
      "value: $2,113,124.20,           sales expense : $126,787.45,           loan : $1,465,373.00\n",
      "appreciation_profit: $53,579.75\n",
      "total cash flow $-41,448.00\n",
      "total profit $12,131.75\n",
      "\n",
      "\n",
      "year afterwards: 2 year\n",
      "value: $2,183,006.10,           sales expense : $130,980.37,           loan : $1,436,380.00\n",
      "appreciation_profit: $148,261.73\n",
      "total cash flow $-62,172.00\n",
      "total profit $86,089.73\n",
      "\n",
      "\n",
      "year afterwards: 3 year\n",
      "value: $2,255,200.20,           sales expense : $135,312.01,           loan : $1,406,206.00\n",
      "appreciation_profit: $246,298.19\n",
      "total cash flow $-82,896.00\n",
      "total profit $163,402.19\n",
      "\n",
      "\n",
      "year afterwards: 4 year\n",
      "value: $2,329,780.20,           sales expense : $139,786.81,           loan : $1,374,802.00\n",
      "appreciation_profit: $347,807.39\n",
      "total cash flow $-103,620.00\n",
      "total profit $244,187.39\n",
      "\n",
      "\n",
      "year afterwards: 5 year\n",
      "value: $2,406,827.50,           sales expense : $144,409.65,           loan : $1,342,119.00\n",
      "appreciation_profit: $452,914.85\n",
      "total cash flow $-124,344.00\n",
      "total profit $328,570.85\n",
      "\n",
      "\n",
      "year afterwards: 6 year\n",
      "value: $2,486,422.40,           sales expense : $149,185.34,           loan : $1,308,104.00\n",
      "appreciation_profit: $561,749.06\n",
      "total cash flow $-145,068.00\n",
      "total profit $416,681.06\n",
      "\n",
      "\n",
      "year afterwards: 7 year\n",
      "value: $2,568,650.70,           sales expense : $154,119.04,           loan : $1,272,703.00\n",
      "appreciation_profit: $674,444.66\n",
      "total cash flow $-165,792.00\n",
      "total profit $508,652.66\n",
      "\n",
      "\n",
      "year afterwards: 8 year\n",
      "value: $2,653,597.10,           sales expense : $159,215.83,           loan : $1,235,860.00\n",
      "appreciation_profit: $791,137.27\n",
      "total cash flow $-186,516.00\n",
      "total profit $604,621.27\n",
      "\n",
      "\n",
      "year afterwards: 9 year\n",
      "value: $2,741,352.90,           sales expense : $164,481.17,           loan : $1,197,516.00\n",
      "appreciation_profit: $911,971.73\n",
      "total cash flow $-207,240.00\n",
      "total profit $704,731.73\n",
      "\n",
      "\n"
     ]
    }
   ],
   "source": [
    "for i in range(10):\n",
    "    print(f\"year afterwards: {i} year\")\n",
    "    print(f\"value: {dollar(values[i])}, \\\n",
    "          sales expense : {dollar(sales_expenses[i])}, \\\n",
    "          loan : {dollar(loans_year_after_year[i])}\")\n",
    "    appreciation_profit = values[i] - sales_expenses[i] - loans_year_after_year[i] - total_cash_needed\n",
    "    print(f\"appreciation_profit: {dollar(appreciation_profit)}\")\n",
    "    cash_flow = monthly_cash_flow * 12 * (i + 1)\n",
    "    print(f\"total cash flow {dollar(cash_flow)}\")\n",
    "    total_profit = appreciation_profit + cash_flow\n",
    "    print(f\"total profit {dollar(total_profit)}\")\n",
    "    print(\"\\n\")"
   ]
  },
  {
   "cell_type": "markdown",
   "metadata": {},
   "source": [
    "$$ valuenow = valuepast * quarterrate^{numofquarter} $$\n",
    "\n",
    "| time | price   |\n",
    "|------|------|\n",
    "|  start  | 1.9  |"
   ]
  }
 ],
 "metadata": {
  "kernelspec": {
   "display_name": "Python 3",
   "language": "python",
   "name": "python3"
  },
  "language_info": {
   "codemirror_mode": {
    "name": "ipython",
    "version": 3
   },
   "file_extension": ".py",
   "mimetype": "text/x-python",
   "name": "python",
   "nbconvert_exporter": "python",
   "pygments_lexer": "ipython3",
   "version": "3.7.0"
  }
 },
 "nbformat": 4,
 "nbformat_minor": 4
}
