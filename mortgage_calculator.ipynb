{
 "cells": [
  {
   "cell_type": "markdown",
   "metadata": {},
   "source": [
    "### Mortgage Calculator "
   ]
  },
  {
   "cell_type": "code",
   "execution_count": 9,
   "metadata": {},
   "outputs": [
    {
     "data": {
      "text/html": [
       "<style>\n",
       ".output {\n",
       "    flex-direction: row;\n",
       "}\n",
       "</style>"
      ],
      "text/plain": [
       "<IPython.core.display.HTML object>"
      ]
     },
     "execution_count": 9,
     "metadata": {},
     "output_type": "execute_result"
    }
   ],
   "source": [
    "M = 10**6\n",
    "K = 10**3\n",
    "months = 12\n",
    "\n",
    "def dollar(s):\n",
    "    return '${:,.2f}'.format(s)\n",
    "\n",
    "def rmb(s):\n",
    "    return '￥{:,.2f}'.format(s * 7)\n",
    "\n",
    "CSS = \"\"\"\n",
    ".output {\n",
    "    flex-direction: row;\n",
    "}\n",
    "\"\"\"\n",
    "\n",
    "HTML('<style>{}</style>'.format(CSS))"
   ]
  },
  {
   "cell_type": "code",
   "execution_count": 10,
   "metadata": {},
   "outputs": [
    {
     "data": {
      "application/vnd.jupyter.widget-view+json": {
       "model_id": "56451bbe2aa04ef9b830cf957d1bd31d",
       "version_major": 2,
       "version_minor": 0
      },
      "text/plain": [
       "interactive(children=(Text(value='18000000', description='price'), IntSlider(value=25, description='down', max…"
      ]
     },
     "metadata": {},
     "output_type": "display_data"
    }
   ],
   "source": [
    "# part 2: show basic report\n",
    "import pandas as pd\n",
    "from ipywidgets import interact\n",
    "from IPython.display import display, HTML\n",
    "\n",
    "def basic_report(\n",
    "    price, \n",
    "    down, \n",
    "    closing_cost=42830,\n",
    "    num_units=3,\n",
    "    unit_income=2500,\n",
    "    mortgage=7277,\n",
    "    repair=50*K,\n",
    "    insurance=480,\n",
    "    property_tax=345):\n",
    "    \"\"\"\n",
    "    use https://smartasset.com/mortgage/closing-costs to compute closing-costs\n",
    "    use zillow or online calculator for monthly mortgage payment\n",
    "    \"\"\"\n",
    "    try:\n",
    "        closing_cost, mortgage, repair, unit_income, insurance, property_tax, purchase_price, down_payment_rate = \\\n",
    "            int(closing_cost), int(mortgage), int(repair), int(unit_income), int(insurance), \\\n",
    "            int(property_tax), int(float(price)), down / 100\n",
    "\n",
    "        vacancy_rate = 5 / 100\n",
    "        repair_rate = 5 / 100\n",
    "        property_management_rate = 5 / 100\n",
    "\n",
    "        down_payments, loan = purchase_price * down_payment_rate, purchase_price * (1 - down_payment_rate)\n",
    "        pre_rent_holding_cost = mortgage * 2\n",
    "\n",
    "        total_cost = purchase_price+closing_cost+pre_rent_holding_cost+repair\n",
    "        total_cash_needed = total_cost - loan # or down-payment, closing-cost, pre-rent-holding, repair\n",
    "        cash_table = pd.DataFrame({\n",
    "            \"expense type\": [\"Down Payment\", \"Closing Cost\", \"Pre-Rent Holding\", \"Repair\", \"(Total)\"],\n",
    "            \"amount\" : [dollar(down_payments), dollar(closing_cost), dollar(pre_rent_holding_cost), \n",
    "                            dollar(repair), dollar(total_cash_needed)]\n",
    "        })\n",
    "        display(HTML(cash_table.to_html()))\n",
    "        total_monthly_income = num_units * unit_income\n",
    "\n",
    "        vacancy = total_monthly_income * vacancy_rate\n",
    "        repair = total_monthly_income * repair_rate\n",
    "        property_management = total_monthly_income * property_management_rate\n",
    "\n",
    "        estimated_monthly_expense = mortgage + \\\n",
    "        property_tax + insurance + vacancy + repair + property_management\n",
    "        expense_table = pd.DataFrame({\n",
    "            \"expense type\": [\"Mortgage\", \"Repair\", \"Insurance\", \"Property tax\", \"Vacancy\", \"Property Managment\", \"(Total)\"],\n",
    "            \"amount\" : [dollar(mortgage), dollar(repair), dollar(insurance), \n",
    "\n",
    "                        dollar(property_tax), dollar(vacancy), dollar(property_management),\n",
    "                            dollar(estimated_monthly_expense)]\n",
    "        })\n",
    "        display(HTML(expense_table.to_html()))\n",
    "        monthly_cash_flow = total_monthly_income - estimated_monthly_expense\n",
    "        ROI = monthly_cash_flow * months / total_cash_needed\n",
    "        \n",
    "        return pd.DataFrame(\n",
    "            {\n",
    "                \"basic info\": [\n",
    "                    \"cash needed in dollar\",\n",
    "                    \"cash need in rmb\",\n",
    "                    \"cash flow (net income)\",\n",
    "                    \"gross income\",\n",
    "                    \"estimated expense (month)\",\n",
    "                    \"percentage covered\"\n",
    "                ],\n",
    "                \"info\" : [\n",
    "                    dollar(total_cash_needed),\n",
    "                    rmb(total_cash_needed),\n",
    "                    dollar(monthly_cash_flow),\n",
    "                    dollar(total_monthly_income),\n",
    "                    dollar(estimated_monthly_expense),\n",
    "                    str(round(total_monthly_income / estimated_monthly_expense, 2)*100) + \"%\"\n",
    "                           ]}\n",
    "        )\n",
    "    except:\n",
    "        print(\"Please pass in valid values!\")\n",
    "\n",
    "test = interact(\n",
    "    basic_report, \n",
    "    price=\"18000000\", \n",
    "    down=(5, 50, 5),\n",
    "    closing_cost = \"40000\",\n",
    "    num_units = (1, 12, 1),\n",
    "    mortgage = \"7000\",\n",
    "    repair = \"50000\",\n",
    "    unit_income = \"2500\",\n",
    "    insurance = \"500\",\n",
    "    property_tax = \"400\")"
   ]
  },
  {
   "cell_type": "markdown",
   "metadata": {},
   "source": [
    "<!-- ### Monthly Mortgage Payment Formula\n",
    "\n",
    "$$M = P[\\frac{r(1+r)^n}{(1+r)^n)-1}]$$\n",
    "\n",
    "+ `M` = the total monthly mortgage payment.\n",
    "+ `P` = the principal loan amount.\n",
    "+ `r` = your monthly interest rate. Lenders provide you an annual rate so you’ll need to divide that figure by $12$ (the number of months in a year) to get the monthly rate. If your interest rate is $5\\%$, your monthly rate would be $0.004167$ ($\\frac{5\\%}{12}=0.004167$)\n",
    "+ `n` = number of payments over the loan’s lifetime. Multiply the number of years in your loan term by $12$ (the number of months in a year) to get the number of payments for your loan. For example, a $30$-year fixed mortgage would have $360$ payments ($30*12=360$)\n",
    "\n",
    "[credit link](https://www.bankrate.com/calculators/mortgages/mortgage-calculator.aspx) -->\n",
    "\n",
    "<!-- TO DO LIST\n",
    "\n",
    "+ formula of closing cost\n",
    "+ formula of morgage\n",
    "+ formula for repair\n",
    "+ formula for insurance\n",
    "+ formula property tax -->"
   ]
  }
 ],
 "metadata": {
  "kernelspec": {
   "display_name": "Python 3",
   "language": "python",
   "name": "python3"
  },
  "language_info": {
   "codemirror_mode": {
    "name": "ipython",
    "version": 3
   },
   "file_extension": ".py",
   "mimetype": "text/x-python",
   "name": "python",
   "nbconvert_exporter": "python",
   "pygments_lexer": "ipython3",
   "version": "3.8.0"
  }
 },
 "nbformat": 4,
 "nbformat_minor": 4
}
